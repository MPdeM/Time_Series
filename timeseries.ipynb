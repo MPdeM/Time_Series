{
 "cells": [
  {
   "cell_type": "markdown",
   "metadata": {},
   "source": [
    "# TIME SERIES"
   ]
  },
  {
   "cell_type": "code",
   "execution_count": 29,
   "metadata": {},
   "outputs": [
    {
     "ename": "SyntaxError",
     "evalue": "invalid syntax (<ipython-input-29-af0914eac96b>, line 2)",
     "output_type": "error",
     "traceback": [
      "\u001b[1;36m  File \u001b[1;32m\"<ipython-input-29-af0914eac96b>\"\u001b[1;36m, line \u001b[1;32m2\u001b[0m\n\u001b[1;33m    pip install kaggle --upgrade\u001b[0m\n\u001b[1;37m              ^\u001b[0m\n\u001b[1;31mSyntaxError\u001b[0m\u001b[1;31m:\u001b[0m invalid syntax\n"
     ]
    }
   ],
   "source": [
    "#pip install plotly \n",
    "pip install kaggle --upgrade\n"
   ]
  },
  {
   "cell_type": "code",
   "execution_count": 4,
   "metadata": {},
   "outputs": [],
   "source": [
    "# Import Python modules\n",
    "import pandas as pd\n",
    "import plotly.express as px\n",
    "import plotly.graph_objects as go"
   ]
  },
  {
   "cell_type": "code",
   "execution_count": null,
   "metadata": {},
   "outputs": [],
   "source": []
  },
  {
   "cell_type": "code",
   "execution_count": 22,
   "metadata": {},
   "outputs": [],
   "source": [
    "def load_zillow_data(state=None,county=None,region=None,city=None):\n",
    "    '''\n",
    "    This function creates a dataframe for whatever city you define.\n",
    "    The dataframe will have a \"Date\" column and then it will also have  \n",
    "    columns for median rental prices and columns for median house prices \n",
    "    and it will all be broken down according to the number of bedrooms \n",
    "    or according to the type of the unit.\n",
    "    '''\n",
    "    # Make a dictionary of file paths\n",
    "    dictionary_with_file_paths = {'/kaggle/input/zillow-house-price-data/DaysOnZillow_City.csv' : 'DaysOnZillow_City',\n",
    "    '/kaggle/input/zillow-house-price-data/Sale_Prices_City.csv' : 'Sale_Prices_City',\n",
    "    '/kaggle/input/zillow-house-price-data/City_MedianRentalPrice_Studio.csv' : 'City_MedianRentalPrice_Studio',\n",
    "    '/kaggle/input/zillow-house-price-data/City_MedianRentalPrice_1Bedroom.csv' : 'City_MedianRentalPrice_1Bedroom',\n",
    "    '/kaggle/input/zillow-house-price-data/City_MedianRentalPrice_2Bedroom.csv' : 'City_MedianRentalPrice_2Bedroom',\n",
    "    '/kaggle/input/zillow-house-price-data/City_MedianRentalPrice_3Bedroom.csv' : 'City_MedianRentalPrice_3Bedroom',\n",
    "    '/kaggle/input/zillow-house-price-data/City_MedianRentalPrice_4Bedroom.csv' : 'City_MedianRentalPrice_4Bedroom',\n",
    "    '/kaggle/input/zillow-house-price-data/City_MedianRentalPrice_5BedroomOrMore.csv' : 'City_MedianRentalPrice_5BedroomOrMore',\n",
    "    '/kaggle/input/zillow-house-price-data/City_Zhvi_1bedroom.csv' : 'City_Zhvi_1bedroom',\n",
    "    '/kaggle/input/zillow-house-price-data/City_Zhvi_2bedroom.csv' : 'City_Zhvi_2bedroom',\n",
    "    '/kaggle/input/zillow-house-price-data/City_Zhvi_3bedroom.csv' : 'City_Zhvi_3bedroom',\n",
    "    '/kaggle/input/zillow-house-price-data/City_Zhvi_4bedroom.csv' : 'City_Zhvi_4bedroom',\n",
    "    '/kaggle/input/zillow-house-price-data/City_Zhvi_5BedroomOrMore.csv' : 'City_Zhvi_5BedroomOrMore',\n",
    "    '/kaggle/input/zillow-house-price-data/City_Zhvi_AllHomes.csv' : 'City_Zhvi_AllHomes',\n",
    "    '/kaggle/input/zillow-house-price-data/City_Zhvi_SingleFamilyResidence.csv' : 'City_Zhvi_SingleFamilyResidence',\n",
    "    '/kaggle/input/zillow-house-price-data/City_Zhvi_Condominum.csv' : 'City_Zhvi_Condominum',}\n",
    "    \n",
    "    # Load the files from the file paths into a dictionary of dataframes\n",
    "    dictionary_with_dataframes = {}\n",
    "    for file_path, file_name in dictionary_with_file_paths.items():\n",
    "        name_of_dataframe = str(file_name)\n",
    "        dictionary_with_dataframes[name_of_dataframe] = pd.read_csv(file_path)\n",
    "        dictionary_with_dataframes[name_of_dataframe].rename(columns={'Unnamed: 0':'which_measurement'}, inplace=True)\n",
    "        dictionary_with_dataframes[name_of_dataframe]['which_measurement'] = name_of_dataframe\n",
    "\n",
    "    # Combine the dataframes into one large dataframe that has a new column that labels each subsection\n",
    "    filtered_dataframe = pd.concat(dictionary_with_dataframes.values(), ignore_index=True, sort=True)\n",
    "\n",
    "    # Filter the data according to your needs\n",
    "    states_to_keep = [state]\n",
    "    counties_to_keep = [county]\n",
    "    regions_to_keep = [region]\n",
    "    cities_to_keep = [city]\n",
    "    if state == None:\n",
    "        pass\n",
    "    else:\n",
    "        filtered_dataframe = filtered_dataframe[filtered_dataframe.State.isin(states_to_keep)]\n",
    "    if county == None:\n",
    "       pass\n",
    "    else:    \n",
    "        filtered_dataframe = filtered_dataframe[filtered_dataframe.CountyName.isin(counties_to_keep)]\n",
    "    if region == None:\n",
    "        pass\n",
    "    else:     \n",
    "        filtered_dataframe = filtered_dataframe[filtered_dataframe.RegionName.isin(regions_to_keep)]\n",
    "    if city == None:\n",
    "        pass\n",
    "    else:     \n",
    "        filtered_dataframe = filtered_dataframe[filtered_dataframe.Metro.isin(cities_to_keep)]\n",
    "\n",
    "    # Reshape the data\n",
    "    for row in filtered_dataframe:\n",
    "        final_df = filtered_dataframe[['2009-01', '2009-02', '2009-03', '2009-04', '2009-05', '2009-06',\n",
    "               '2009-07', '2009-08', '2009-09', '2009-10', '2009-11', '2009-12',\n",
    "               '2010-01', '2010-02', '2010-03', '2010-04', '2010-05', '2010-06',\n",
    "               '2010-07', '2010-08', '2010-09', '2010-10', '2010-11', '2010-12',\n",
    "               '2011-01', '2011-02', '2011-03', '2011-04', '2011-05', '2011-06',\n",
    "               '2011-07', '2011-08', '2011-09', '2011-10', '2011-11', '2011-12',\n",
    "               '2012-01', '2012-02', '2012-03', '2012-04', '2012-05', '2012-06',\n",
    "               '2012-07', '2012-08', '2012-09', '2012-10', '2012-11', '2012-12',\n",
    "               '2013-01', '2013-02', '2013-03', '2013-04', '2013-05', '2013-06',\n",
    "               '2013-07', '2013-08', '2013-09', '2013-10', '2013-11', '2013-12',\n",
    "               '2014-01', '2014-02', '2014-03', '2014-04', '2014-05', '2014-06',\n",
    "               '2014-07', '2014-08', '2014-09', '2014-10', '2014-11', '2014-12',\n",
    "               '2015-01', '2015-02', '2015-03', '2015-04', '2015-05', '2015-06',\n",
    "               '2015-07', '2015-08', '2015-09', '2015-10', '2015-11', '2015-12',\n",
    "               '2016-01', '2016-02', '2016-03', '2016-04', '2016-05', '2016-06',\n",
    "               '2016-07', '2016-08', '2016-09', '2016-10', '2016-11', '2016-12',\n",
    "               '2017-01', '2017-02', '2017-03', '2017-04', '2017-05', '2017-06',\n",
    "               '2017-07', '2017-08', '2017-09', '2017-10', '2017-11', '2017-12',\n",
    "               '2018-01', '2018-02', '2018-03', '2018-04', '2018-05', '2018-06',\n",
    "               '2018-07', '2018-08', '2018-09', '2018-10', '2018-11', '2018-12',\n",
    "               '2019-01', '2019-02', '2019-03', '2019-04', '2019-05', '2019-06',\n",
    "               '2019-07', '2019-08', '2019-09', '2019-10', '2019-11','2019-12',\n",
    "                '2020-01','2020-02','2020-03','which_measurement']]\n",
    "        column_title = final_df['which_measurement'].values\n",
    "        final_df = final_df.T[:-1]#.fillna(0)\n",
    "        final_df.columns = [column_title]\n",
    "    final_df.columns = ['Sale_Prices_City','City_MedianRentalPrice_Studio','City_MedianRentalPrice_1Bedroom',\n",
    "                          'City_MedianRentalPrice_2Bedroom','City_MedianRentalPrice_3Bedroom',\n",
    "                          'City_Zhvi_1bedroom','City_Zhvi_2bedroom','City_Zhvi_3bedroom',\n",
    "                          'City_Zhvi_4bedroom','City_Zhvi_5BedroomOrMore','City_Zhvi_AllHomes',\n",
    "                          'City_Zhvi_SingleFamilyResidence','City_Zhvi_Condominum']\n",
    "    final_df['Date'] = final_df.index\n",
    "    return final_df"
   ]
  },
  {
   "cell_type": "code",
   "execution_count": 23,
   "metadata": {},
   "outputs": [],
   "source": [
    "def plot_seven_columns_using_plotly_regular(dataframe,column_one,column_two,column_three,column_four,column_five,column_six,column_seven,title):    \n",
    "    '''\n",
    "    This function plots seven numerical columns against a date column.\n",
    "    It using the regular plotly library instead of plotly express.\n",
    "    '''\n",
    "    fig = go.Figure()\n",
    "    fig.add_trace(go.Scatter(x=dataframe.Date, y=dataframe[column_one],\n",
    "                        mode='lines+markers',name=column_one))\n",
    "    fig.add_trace(go.Scatter(x=dataframe.Date, y=dataframe[column_two],\n",
    "                        mode='lines+markers',name=column_two))\n",
    "    fig.add_trace(go.Scatter(x=dataframe.Date, y=dataframe[column_three],\n",
    "                        mode='lines+markers',name=column_three))\n",
    "    fig.add_trace(go.Scatter(x=dataframe.Date, y=dataframe[column_four],\n",
    "                        mode='lines+markers',name=column_four))\n",
    "    fig.add_trace(go.Scatter(x=dataframe.Date, y=dataframe[column_five],\n",
    "                        mode='lines+markers',name=column_five))\n",
    "    fig.add_trace(go.Scatter(x=dataframe.Date, y=dataframe[column_six],\n",
    "                        mode='lines+markers',name=column_six))\n",
    "    fig.add_trace(go.Scatter(x=dataframe.Date, y=dataframe[column_seven],\n",
    "                        mode='lines+markers',name=column_seven))\n",
    "    fig.update_layout(title={'text':title},\n",
    "                      xaxis_title='Date',yaxis_title='Median Price ($USD)',\n",
    "                      legend_orientation=\"h\",showlegend=True)\n",
    "    fig.show()"
   ]
  },
  {
   "cell_type": "code",
   "execution_count": 24,
   "metadata": {},
   "outputs": [],
   "source": [
    "def plot_seven_columns_using_plotly_express(dataframe,column_one,column_two,column_three,column_four,column_five,column_six,column_seven,title):    \n",
    "    '''\n",
    "    This function plots seven numerical columns against a date column.\n",
    "    It using the plotly express library instead of the normal plotly library.\n",
    "    '''\n",
    "    df_melt = dataframe.melt(id_vars='Date', value_vars=[column_one,column_two,column_three,column_four,column_five,column_six,column_seven])\n",
    "    fig = px.line(df_melt, x=\"Date\", y=\"value\", color=\"variable\",title=title).update(layout=dict(xaxis_title='Date',yaxis_title='Median Price ($USD)',legend_orientation=\"h\",showlegend=True))\n",
    "    fig.show()\n"
   ]
  },
  {
   "cell_type": "code",
   "execution_count": 25,
   "metadata": {},
   "outputs": [],
   "source": [
    "def plot_four_columns_using_plotly_regular(dataframe,column_one,column_two,column_three,column_four,title,lower_axis_limit,upper_axis_limit):    \n",
    "    '''\n",
    "    This function plots four numerical columns against a date column.\n",
    "    It using the regular plotly library instead of plotly express.\n",
    "    '''\n",
    "    fig = go.Figure()\n",
    "    fig.add_trace(go.Scatter(x=dataframe.Date, y=dataframe[column_one],\n",
    "                        mode='lines+markers',name=column_one))\n",
    "    fig.add_trace(go.Scatter(x=dataframe.Date, y=dataframe[column_two],\n",
    "                        mode='lines+markers',name=column_two))\n",
    "    fig.add_trace(go.Scatter(x=dataframe.Date, y=dataframe[column_three],\n",
    "                        mode='lines+markers',name=column_three))\n",
    "    fig.add_trace(go.Scatter(x=dataframe.Date, y=dataframe[column_four],\n",
    "                        mode='lines+markers',name=column_four))\n",
    "    fig.update_layout(title={'text':title},\n",
    "                      xaxis_title='Date',yaxis_title='Median Price ($USD)',\n",
    "                      legend_orientation=\"h\",showlegend=True)\n",
    "    fig.update_layout(xaxis=dict(range=[lower_axis_limit,upper_axis_limit]))\n",
    "    fig.show()    \n",
    "   "
   ]
  },
  {
   "cell_type": "code",
   "execution_count": 26,
   "metadata": {},
   "outputs": [],
   "source": [
    "def plot_four_columns_using_plotly_express(dataframe,column_one,column_two,column_three,column_four,title,lower_axis_limit,upper_axis_limit):\n",
    "    '''\n",
    "    This function plots four numerical columns against a date column.\n",
    "    It using the plotly express library instead of the normal plotly library.\n",
    "    '''\n",
    "    df_melt = dataframe.melt(id_vars='Date', value_vars=[column_one,column_two,column_three,column_four])\n",
    "    fig = px.line(df_melt, x=\"Date\", y=\"value\", color=\"variable\",title=title).update(layout=dict(xaxis_title='Date',yaxis_title='Median Price ($USD)',legend_orientation=\"h\",showlegend=True))\n",
    "    fig.update_xaxes(range=[lower_axis_limit,upper_axis_limit])\n",
    "    fig.show()"
   ]
  },
  {
   "cell_type": "code",
   "execution_count": 27,
   "metadata": {},
   "outputs": [
    {
     "ename": "FileNotFoundError",
     "evalue": "[Errno 2] File /kaggle/input/zillow-house-price-data/DaysOnZillow_City.csv does not exist: '/kaggle/input/zillow-house-price-data/DaysOnZillow_City.csv'",
     "output_type": "error",
     "traceback": [
      "\u001b[1;31m---------------------------------------------------------------------------\u001b[0m",
      "\u001b[1;31mFileNotFoundError\u001b[0m                         Traceback (most recent call last)",
      "\u001b[1;32m<ipython-input-27-51273c8c0547>\u001b[0m in \u001b[0;36m<module>\u001b[1;34m\u001b[0m\n\u001b[0;32m      1\u001b[0m \u001b[1;31m# Load and plot the data for the state, county, region, or city that you are interested in.\u001b[0m\u001b[1;33m\u001b[0m\u001b[1;33m\u001b[0m\u001b[1;33m\u001b[0m\u001b[0m\n\u001b[0;32m      2\u001b[0m sanfrancisco_df = load_zillow_data(state='CA',county='San Francisco County',\n\u001b[1;32m----> 3\u001b[1;33m                               region='San Francisco',city='San Francisco-Oakland-Hayward')\n\u001b[0m",
      "\u001b[1;32m<ipython-input-22-ad6e3f41c067>\u001b[0m in \u001b[0;36mload_zillow_data\u001b[1;34m(state, county, region, city)\u001b[0m\n\u001b[0;32m     29\u001b[0m     \u001b[1;32mfor\u001b[0m \u001b[0mfile_path\u001b[0m\u001b[1;33m,\u001b[0m \u001b[0mfile_name\u001b[0m \u001b[1;32min\u001b[0m \u001b[0mdictionary_with_file_paths\u001b[0m\u001b[1;33m.\u001b[0m\u001b[0mitems\u001b[0m\u001b[1;33m(\u001b[0m\u001b[1;33m)\u001b[0m\u001b[1;33m:\u001b[0m\u001b[1;33m\u001b[0m\u001b[1;33m\u001b[0m\u001b[0m\n\u001b[0;32m     30\u001b[0m         \u001b[0mname_of_dataframe\u001b[0m \u001b[1;33m=\u001b[0m \u001b[0mstr\u001b[0m\u001b[1;33m(\u001b[0m\u001b[0mfile_name\u001b[0m\u001b[1;33m)\u001b[0m\u001b[1;33m\u001b[0m\u001b[1;33m\u001b[0m\u001b[0m\n\u001b[1;32m---> 31\u001b[1;33m         \u001b[0mdictionary_with_dataframes\u001b[0m\u001b[1;33m[\u001b[0m\u001b[0mname_of_dataframe\u001b[0m\u001b[1;33m]\u001b[0m \u001b[1;33m=\u001b[0m \u001b[0mpd\u001b[0m\u001b[1;33m.\u001b[0m\u001b[0mread_csv\u001b[0m\u001b[1;33m(\u001b[0m\u001b[0mfile_path\u001b[0m\u001b[1;33m)\u001b[0m\u001b[1;33m\u001b[0m\u001b[1;33m\u001b[0m\u001b[0m\n\u001b[0m\u001b[0;32m     32\u001b[0m         \u001b[0mdictionary_with_dataframes\u001b[0m\u001b[1;33m[\u001b[0m\u001b[0mname_of_dataframe\u001b[0m\u001b[1;33m]\u001b[0m\u001b[1;33m.\u001b[0m\u001b[0mrename\u001b[0m\u001b[1;33m(\u001b[0m\u001b[0mcolumns\u001b[0m\u001b[1;33m=\u001b[0m\u001b[1;33m{\u001b[0m\u001b[1;34m'Unnamed: 0'\u001b[0m\u001b[1;33m:\u001b[0m\u001b[1;34m'which_measurement'\u001b[0m\u001b[1;33m}\u001b[0m\u001b[1;33m,\u001b[0m \u001b[0minplace\u001b[0m\u001b[1;33m=\u001b[0m\u001b[1;32mTrue\u001b[0m\u001b[1;33m)\u001b[0m\u001b[1;33m\u001b[0m\u001b[1;33m\u001b[0m\u001b[0m\n\u001b[0;32m     33\u001b[0m         \u001b[0mdictionary_with_dataframes\u001b[0m\u001b[1;33m[\u001b[0m\u001b[0mname_of_dataframe\u001b[0m\u001b[1;33m]\u001b[0m\u001b[1;33m[\u001b[0m\u001b[1;34m'which_measurement'\u001b[0m\u001b[1;33m]\u001b[0m \u001b[1;33m=\u001b[0m \u001b[0mname_of_dataframe\u001b[0m\u001b[1;33m\u001b[0m\u001b[1;33m\u001b[0m\u001b[0m\n",
      "\u001b[1;32m~\\Anaconda3\\lib\\site-packages\\pandas\\io\\parsers.py\u001b[0m in \u001b[0;36mparser_f\u001b[1;34m(filepath_or_buffer, sep, delimiter, header, names, index_col, usecols, squeeze, prefix, mangle_dupe_cols, dtype, engine, converters, true_values, false_values, skipinitialspace, skiprows, skipfooter, nrows, na_values, keep_default_na, na_filter, verbose, skip_blank_lines, parse_dates, infer_datetime_format, keep_date_col, date_parser, dayfirst, cache_dates, iterator, chunksize, compression, thousands, decimal, lineterminator, quotechar, quoting, doublequote, escapechar, comment, encoding, dialect, error_bad_lines, warn_bad_lines, delim_whitespace, low_memory, memory_map, float_precision)\u001b[0m\n\u001b[0;32m    674\u001b[0m         )\n\u001b[0;32m    675\u001b[0m \u001b[1;33m\u001b[0m\u001b[0m\n\u001b[1;32m--> 676\u001b[1;33m         \u001b[1;32mreturn\u001b[0m \u001b[0m_read\u001b[0m\u001b[1;33m(\u001b[0m\u001b[0mfilepath_or_buffer\u001b[0m\u001b[1;33m,\u001b[0m \u001b[0mkwds\u001b[0m\u001b[1;33m)\u001b[0m\u001b[1;33m\u001b[0m\u001b[1;33m\u001b[0m\u001b[0m\n\u001b[0m\u001b[0;32m    677\u001b[0m \u001b[1;33m\u001b[0m\u001b[0m\n\u001b[0;32m    678\u001b[0m     \u001b[0mparser_f\u001b[0m\u001b[1;33m.\u001b[0m\u001b[0m__name__\u001b[0m \u001b[1;33m=\u001b[0m \u001b[0mname\u001b[0m\u001b[1;33m\u001b[0m\u001b[1;33m\u001b[0m\u001b[0m\n",
      "\u001b[1;32m~\\Anaconda3\\lib\\site-packages\\pandas\\io\\parsers.py\u001b[0m in \u001b[0;36m_read\u001b[1;34m(filepath_or_buffer, kwds)\u001b[0m\n\u001b[0;32m    446\u001b[0m \u001b[1;33m\u001b[0m\u001b[0m\n\u001b[0;32m    447\u001b[0m     \u001b[1;31m# Create the parser.\u001b[0m\u001b[1;33m\u001b[0m\u001b[1;33m\u001b[0m\u001b[1;33m\u001b[0m\u001b[0m\n\u001b[1;32m--> 448\u001b[1;33m     \u001b[0mparser\u001b[0m \u001b[1;33m=\u001b[0m \u001b[0mTextFileReader\u001b[0m\u001b[1;33m(\u001b[0m\u001b[0mfp_or_buf\u001b[0m\u001b[1;33m,\u001b[0m \u001b[1;33m**\u001b[0m\u001b[0mkwds\u001b[0m\u001b[1;33m)\u001b[0m\u001b[1;33m\u001b[0m\u001b[1;33m\u001b[0m\u001b[0m\n\u001b[0m\u001b[0;32m    449\u001b[0m \u001b[1;33m\u001b[0m\u001b[0m\n\u001b[0;32m    450\u001b[0m     \u001b[1;32mif\u001b[0m \u001b[0mchunksize\u001b[0m \u001b[1;32mor\u001b[0m \u001b[0miterator\u001b[0m\u001b[1;33m:\u001b[0m\u001b[1;33m\u001b[0m\u001b[1;33m\u001b[0m\u001b[0m\n",
      "\u001b[1;32m~\\Anaconda3\\lib\\site-packages\\pandas\\io\\parsers.py\u001b[0m in \u001b[0;36m__init__\u001b[1;34m(self, f, engine, **kwds)\u001b[0m\n\u001b[0;32m    878\u001b[0m             \u001b[0mself\u001b[0m\u001b[1;33m.\u001b[0m\u001b[0moptions\u001b[0m\u001b[1;33m[\u001b[0m\u001b[1;34m\"has_index_names\"\u001b[0m\u001b[1;33m]\u001b[0m \u001b[1;33m=\u001b[0m \u001b[0mkwds\u001b[0m\u001b[1;33m[\u001b[0m\u001b[1;34m\"has_index_names\"\u001b[0m\u001b[1;33m]\u001b[0m\u001b[1;33m\u001b[0m\u001b[1;33m\u001b[0m\u001b[0m\n\u001b[0;32m    879\u001b[0m \u001b[1;33m\u001b[0m\u001b[0m\n\u001b[1;32m--> 880\u001b[1;33m         \u001b[0mself\u001b[0m\u001b[1;33m.\u001b[0m\u001b[0m_make_engine\u001b[0m\u001b[1;33m(\u001b[0m\u001b[0mself\u001b[0m\u001b[1;33m.\u001b[0m\u001b[0mengine\u001b[0m\u001b[1;33m)\u001b[0m\u001b[1;33m\u001b[0m\u001b[1;33m\u001b[0m\u001b[0m\n\u001b[0m\u001b[0;32m    881\u001b[0m \u001b[1;33m\u001b[0m\u001b[0m\n\u001b[0;32m    882\u001b[0m     \u001b[1;32mdef\u001b[0m \u001b[0mclose\u001b[0m\u001b[1;33m(\u001b[0m\u001b[0mself\u001b[0m\u001b[1;33m)\u001b[0m\u001b[1;33m:\u001b[0m\u001b[1;33m\u001b[0m\u001b[1;33m\u001b[0m\u001b[0m\n",
      "\u001b[1;32m~\\Anaconda3\\lib\\site-packages\\pandas\\io\\parsers.py\u001b[0m in \u001b[0;36m_make_engine\u001b[1;34m(self, engine)\u001b[0m\n\u001b[0;32m   1112\u001b[0m     \u001b[1;32mdef\u001b[0m \u001b[0m_make_engine\u001b[0m\u001b[1;33m(\u001b[0m\u001b[0mself\u001b[0m\u001b[1;33m,\u001b[0m \u001b[0mengine\u001b[0m\u001b[1;33m=\u001b[0m\u001b[1;34m\"c\"\u001b[0m\u001b[1;33m)\u001b[0m\u001b[1;33m:\u001b[0m\u001b[1;33m\u001b[0m\u001b[1;33m\u001b[0m\u001b[0m\n\u001b[0;32m   1113\u001b[0m         \u001b[1;32mif\u001b[0m \u001b[0mengine\u001b[0m \u001b[1;33m==\u001b[0m \u001b[1;34m\"c\"\u001b[0m\u001b[1;33m:\u001b[0m\u001b[1;33m\u001b[0m\u001b[1;33m\u001b[0m\u001b[0m\n\u001b[1;32m-> 1114\u001b[1;33m             \u001b[0mself\u001b[0m\u001b[1;33m.\u001b[0m\u001b[0m_engine\u001b[0m \u001b[1;33m=\u001b[0m \u001b[0mCParserWrapper\u001b[0m\u001b[1;33m(\u001b[0m\u001b[0mself\u001b[0m\u001b[1;33m.\u001b[0m\u001b[0mf\u001b[0m\u001b[1;33m,\u001b[0m \u001b[1;33m**\u001b[0m\u001b[0mself\u001b[0m\u001b[1;33m.\u001b[0m\u001b[0moptions\u001b[0m\u001b[1;33m)\u001b[0m\u001b[1;33m\u001b[0m\u001b[1;33m\u001b[0m\u001b[0m\n\u001b[0m\u001b[0;32m   1115\u001b[0m         \u001b[1;32melse\u001b[0m\u001b[1;33m:\u001b[0m\u001b[1;33m\u001b[0m\u001b[1;33m\u001b[0m\u001b[0m\n\u001b[0;32m   1116\u001b[0m             \u001b[1;32mif\u001b[0m \u001b[0mengine\u001b[0m \u001b[1;33m==\u001b[0m \u001b[1;34m\"python\"\u001b[0m\u001b[1;33m:\u001b[0m\u001b[1;33m\u001b[0m\u001b[1;33m\u001b[0m\u001b[0m\n",
      "\u001b[1;32m~\\Anaconda3\\lib\\site-packages\\pandas\\io\\parsers.py\u001b[0m in \u001b[0;36m__init__\u001b[1;34m(self, src, **kwds)\u001b[0m\n\u001b[0;32m   1889\u001b[0m         \u001b[0mkwds\u001b[0m\u001b[1;33m[\u001b[0m\u001b[1;34m\"usecols\"\u001b[0m\u001b[1;33m]\u001b[0m \u001b[1;33m=\u001b[0m \u001b[0mself\u001b[0m\u001b[1;33m.\u001b[0m\u001b[0musecols\u001b[0m\u001b[1;33m\u001b[0m\u001b[1;33m\u001b[0m\u001b[0m\n\u001b[0;32m   1890\u001b[0m \u001b[1;33m\u001b[0m\u001b[0m\n\u001b[1;32m-> 1891\u001b[1;33m         \u001b[0mself\u001b[0m\u001b[1;33m.\u001b[0m\u001b[0m_reader\u001b[0m \u001b[1;33m=\u001b[0m \u001b[0mparsers\u001b[0m\u001b[1;33m.\u001b[0m\u001b[0mTextReader\u001b[0m\u001b[1;33m(\u001b[0m\u001b[0msrc\u001b[0m\u001b[1;33m,\u001b[0m \u001b[1;33m**\u001b[0m\u001b[0mkwds\u001b[0m\u001b[1;33m)\u001b[0m\u001b[1;33m\u001b[0m\u001b[1;33m\u001b[0m\u001b[0m\n\u001b[0m\u001b[0;32m   1892\u001b[0m         \u001b[0mself\u001b[0m\u001b[1;33m.\u001b[0m\u001b[0munnamed_cols\u001b[0m \u001b[1;33m=\u001b[0m \u001b[0mself\u001b[0m\u001b[1;33m.\u001b[0m\u001b[0m_reader\u001b[0m\u001b[1;33m.\u001b[0m\u001b[0munnamed_cols\u001b[0m\u001b[1;33m\u001b[0m\u001b[1;33m\u001b[0m\u001b[0m\n\u001b[0;32m   1893\u001b[0m \u001b[1;33m\u001b[0m\u001b[0m\n",
      "\u001b[1;32mpandas\\_libs\\parsers.pyx\u001b[0m in \u001b[0;36mpandas._libs.parsers.TextReader.__cinit__\u001b[1;34m()\u001b[0m\n",
      "\u001b[1;32mpandas\\_libs\\parsers.pyx\u001b[0m in \u001b[0;36mpandas._libs.parsers.TextReader._setup_parser_source\u001b[1;34m()\u001b[0m\n",
      "\u001b[1;31mFileNotFoundError\u001b[0m: [Errno 2] File /kaggle/input/zillow-house-price-data/DaysOnZillow_City.csv does not exist: '/kaggle/input/zillow-house-price-data/DaysOnZillow_City.csv'"
     ]
    }
   ],
   "source": [
    "# Load and plot the data for the state, county, region, or city that you are interested in.  \n",
    "sanfrancisco_df = load_zillow_data(state='CA',county='San Francisco County',\n",
    "                              region='San Francisco',city='San Francisco-Oakland-Hayward')"
   ]
  },
  {
   "cell_type": "code",
   "execution_count": 21,
   "metadata": {},
   "outputs": [
    {
     "ename": "NameError",
     "evalue": "name 'sanfrancisco_df' is not defined",
     "output_type": "error",
     "traceback": [
      "\u001b[1;31m---------------------------------------------------------------------------\u001b[0m",
      "\u001b[1;31mNameError\u001b[0m                                 Traceback (most recent call last)",
      "\u001b[1;32m<ipython-input-21-c108e4d41396>\u001b[0m in \u001b[0;36m<module>\u001b[1;34m\u001b[0m\n\u001b[1;32m----> 1\u001b[1;33m \u001b[0msanfrancisco_df\u001b[0m\u001b[1;33m.\u001b[0m\u001b[0mplot\u001b[0m\u001b[1;33m(\u001b[0m\u001b[0mtitle\u001b[0m\u001b[1;33m=\u001b[0m\u001b[1;34m'Median Prices of Homes and Rental Units in San Francisco, CA'\u001b[0m\u001b[1;33m,\u001b[0m\u001b[0mfigsize\u001b[0m\u001b[1;33m=\u001b[0m\u001b[1;33m(\u001b[0m\u001b[1;36m12\u001b[0m\u001b[1;33m,\u001b[0m\u001b[1;36m9\u001b[0m\u001b[1;33m)\u001b[0m\u001b[1;33m,\u001b[0m \u001b[0mgrid\u001b[0m\u001b[1;33m=\u001b[0m\u001b[1;32mTrue\u001b[0m\u001b[1;33m)\u001b[0m\u001b[1;33m\u001b[0m\u001b[1;33m\u001b[0m\u001b[0m\n\u001b[0m",
      "\u001b[1;31mNameError\u001b[0m: name 'sanfrancisco_df' is not defined"
     ]
    }
   ],
   "source": [
    "sanfrancisco_df.plot(title='Median Prices of Homes and Rental Units in San Francisco, CA',figsize=(12,9), grid=True)"
   ]
  },
  {
   "cell_type": "code",
   "execution_count": null,
   "metadata": {},
   "outputs": [],
   "source": []
  }
 ],
 "metadata": {
  "kernelspec": {
   "display_name": "Python 3",
   "language": "python",
   "name": "python3"
  },
  "language_info": {
   "codemirror_mode": {
    "name": "ipython",
    "version": 3
   },
   "file_extension": ".py",
   "mimetype": "text/x-python",
   "name": "python",
   "nbconvert_exporter": "python",
   "pygments_lexer": "ipython3",
   "version": "3.7.3"
  }
 },
 "nbformat": 4,
 "nbformat_minor": 4
}
